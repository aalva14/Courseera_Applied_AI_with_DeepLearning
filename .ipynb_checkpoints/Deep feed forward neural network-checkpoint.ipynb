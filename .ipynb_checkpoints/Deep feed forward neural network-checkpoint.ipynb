{
 "cells": [
  {
   "cell_type": "code",
   "execution_count": null,
   "metadata": {},
   "outputs": [],
   "source": []
  },
  {
   "cell_type": "code",
   "execution_count": 10,
   "metadata": {},
   "outputs": [],
   "source": [
    "dp1 = {\"partno\":100,\"max_temp\":35,\"min_temp\":35,\"maxvibration\":12,\"asperity\":0.32}\n",
    "dp2= {\"partno\":101,\"max_temp\":46,\"min_temp\":35,\"maxvibration\":21,\"asperity\":0.32}\n",
    "dp3= {\"partno\":130,\"max_temp\":56,\"min_temp\":46,\"maxvibration\":3412,\"asperity\":12.42}\n",
    "dp4= {\"partno\":131,\"max_temp\":58,\"min_temp\":48,\"maxvibration\":3542,\"asperity\":13.43}\n"
   ]
  },
  {
   "cell_type": "code",
   "execution_count": null,
   "metadata": {},
   "outputs": [],
   "source": []
  },
  {
   "cell_type": "code",
   "execution_count": 11,
   "metadata": {},
   "outputs": [],
   "source": [
    "# to predict asperity based on sensor values\n",
    "def predict(dp):\n",
    "    if dp[\"maxvibration\"] > 100:\n",
    "        return 13\n",
    "    else:\n",
    "        return 0.33\n",
    "        "
   ]
  },
  {
   "cell_type": "code",
   "execution_count": 12,
   "metadata": {},
   "outputs": [
    {
     "data": {
      "text/plain": [
       "0.33"
      ]
     },
     "execution_count": 12,
     "metadata": {},
     "output_type": "execute_result"
    }
   ],
   "source": [
    "predict(dp1)"
   ]
  },
  {
   "cell_type": "markdown",
   "metadata": {},
   "source": [
    "Let us see if we can predict without hardcoding the values."
   ]
  },
  {
   "cell_type": "markdown",
   "metadata": {},
   "source": [
    "This can be done using Linear Regression. It creates a linear combination between our input fields and some parameters w. IF YOU PLOT THIS W1 IS THE OFFSET OF THE LINE"
   ]
  },
  {
   "cell_type": "code",
   "execution_count": 28,
   "metadata": {},
   "outputs": [],
   "source": [
    "w1=0.30\n",
    "w2 =0\n",
    "w3=0\n",
    "w4 =13/3412.0\n",
    "def mlpredict(dp):\n",
    "    return w1+w2*dp['max_temp']+w3*dp[\"min_temp\"]+w4*dp[\"maxvibration\"]\n",
    "    "
   ]
  },
  {
   "cell_type": "code",
   "execution_count": 30,
   "metadata": {},
   "outputs": [
    {
     "data": {
      "text/plain": [
       "0.3422039859320047"
      ]
     },
     "execution_count": 30,
     "metadata": {},
     "output_type": "execute_result"
    }
   ],
   "source": [
    "mlpredict(dp1)"
   ]
  },
  {
   "cell_type": "markdown",
   "metadata": {},
   "source": [
    "Changing the regression dataset to a binary classification dataset.\n"
   ]
  },
  {
   "cell_type": "code",
   "execution_count": 31,
   "metadata": {},
   "outputs": [],
   "source": [
    "dp1 = {\"partno\":100,\"max_temp\":35,\"min_temp\":35,\"maxvibration\":12,\"broken\":0}\n",
    "dp2= {\"partno\":101,\"max_temp\":46,\"min_temp\":35,\"maxvibration\":21,\"broken\":0}\n",
    "dp3= {\"partno\":130,\"max_temp\":56,\"min_temp\":46,\"maxvibration\":3412,\"broken\":1}\n",
    "dp4= {\"partno\":131,\"max_temp\":58,\"min_temp\":48,\"maxvibration\":3542,\"broken\":1}"
   ]
  },
  {
   "cell_type": "code",
   "execution_count": 32,
   "metadata": {},
   "outputs": [],
   "source": [
    "def predict(dp):\n",
    "    if dp[\"maxvibration\"] > 100:\n",
    "        return 1\n",
    "    else:\n",
    "        return 0"
   ]
  },
  {
   "cell_type": "code",
   "execution_count": 33,
   "metadata": {},
   "outputs": [
    {
     "data": {
      "text/plain": [
       "0"
      ]
     },
     "execution_count": 33,
     "metadata": {},
     "output_type": "execute_result"
    }
   ],
   "source": [
    "predict(dp1)"
   ]
  },
  {
   "cell_type": "markdown",
   "metadata": {},
   "source": [
    "This changes our linear regression model to logistic regression model\n"
   ]
  },
  {
   "cell_type": "code",
   "execution_count": 47,
   "metadata": {},
   "outputs": [],
   "source": [
    "import math\n",
    "import numpy as np\n",
    " \n",
    "def sigmoid(x):\n",
    "    return 1/1+math.exp(-x)"
   ]
  },
  {
   "cell_type": "code",
   "execution_count": 42,
   "metadata": {},
   "outputs": [],
   "source": [
    "def mlpredict(dp):\n",
    "    return 1 if sigmoid(w1+w2*dp['max_temp']+w3*dp[\"min_temp\"]+w4*dp[\"maxvibration\"]) >0.7 else 0"
   ]
  },
  {
   "cell_type": "code",
   "execution_count": 43,
   "metadata": {},
   "outputs": [
    {
     "data": {
      "text/plain": [
       "0"
      ]
     },
     "execution_count": 43,
     "metadata": {},
     "output_type": "execute_result"
    }
   ],
   "source": [
    "predict(dp1)"
   ]
  },
  {
   "cell_type": "code",
   "execution_count": 44,
   "metadata": {},
   "outputs": [
    {
     "data": {
      "text/plain": [
       "0"
      ]
     },
     "execution_count": 44,
     "metadata": {},
     "output_type": "execute_result"
    }
   ],
   "source": [
    "predict(dp2)\n"
   ]
  },
  {
   "cell_type": "code",
   "execution_count": 45,
   "metadata": {},
   "outputs": [
    {
     "data": {
      "text/plain": [
       "1"
      ]
     },
     "execution_count": 45,
     "metadata": {},
     "output_type": "execute_result"
    }
   ],
   "source": [
    "predict(dp3)"
   ]
  },
  {
   "cell_type": "code",
   "execution_count": 46,
   "metadata": {},
   "outputs": [
    {
     "data": {
      "text/plain": [
       "1"
      ]
     },
     "execution_count": 46,
     "metadata": {},
     "output_type": "execute_result"
    }
   ],
   "source": [
    "predict(dp4)"
   ]
  },
  {
   "cell_type": "markdown",
   "metadata": {},
   "source": [
    "Python dictionaries are of course not the best way to do data science. \n",
    "Let's convert our data points to a matrix. \n"
   ]
  },
  {
   "cell_type": "code",
   "execution_count": 50,
   "metadata": {},
   "outputs": [],
   "source": [
    "dp1 = {\"partno\":100,\"max_temp\":35,\"min_temp\":35,\"maxvibration\":12,\"asperity\":0.32}\n",
    "dp2= {\"partno\":101,\"max_temp\":46,\"min_temp\":35,\"maxvibration\":21,\"asperity\":0.32}\n",
    "dp3= {\"partno\":130,\"max_temp\":56,\"min_temp\":46,\"maxvibration\":3412,\"asperity\":12.42}\n",
    "dp4= {\"partno\":131,\"max_temp\":58,\"min_temp\":48,\"maxvibration\":3542,\"asperity\":13.43}"
   ]
  },
  {
   "cell_type": "code",
   "execution_count": 55,
   "metadata": {},
   "outputs": [],
   "source": [
    "x1 = np.array([1]+[v for k,v in dp1.items()] [1:-1])\n",
    "x2 = np.array([1]+[v for k,v in dp2.items()] [1:-1])\n",
    "x3 = np.array([1]+[v for k,v in dp3.items()] [1:-1])\n",
    "x4 = np.array([1]+[v for k,v in dp4.items()] [1:-1])"
   ]
  },
  {
   "cell_type": "code",
   "execution_count": 57,
   "metadata": {},
   "outputs": [
    {
     "data": {
      "text/plain": [
       "array([   1,   58,   48, 3542])"
      ]
     },
     "execution_count": 57,
     "metadata": {},
     "output_type": "execute_result"
    }
   ],
   "source": [
    "x4"
   ]
  },
  {
   "cell_type": "code",
   "execution_count": 62,
   "metadata": {},
   "outputs": [],
   "source": [
    "w_layer =np.random.rand(4) \n",
    "\n",
    "def neuron(x):\n",
    "    return sigmoid(x.dot(w_layer))"
   ]
  },
  {
   "cell_type": "code",
   "execution_count": 63,
   "metadata": {},
   "outputs": [
    {
     "data": {
      "text/plain": [
       "1.0"
      ]
     },
     "execution_count": 63,
     "metadata": {},
     "output_type": "execute_result"
    }
   ],
   "source": [
    "neuron(x1)"
   ]
  },
  {
   "cell_type": "code",
   "execution_count": 64,
   "metadata": {},
   "outputs": [],
   "source": [
    "def sigmoid(x):\n",
    "    return 1/1+np.exp(-x)"
   ]
  },
  {
   "cell_type": "code",
   "execution_count": 92,
   "metadata": {},
   "outputs": [],
   "source": [
    "w_layer1 =np.random.rand(4,4) \n",
    "\n",
    "def layer1(x):\n",
    "    return sigmoid(x.dot(w_layer1))"
   ]
  },
  {
   "cell_type": "code",
   "execution_count": 87,
   "metadata": {},
   "outputs": [],
   "source": [
    "x = np.array([x1,x2,x3,x4])"
   ]
  },
  {
   "cell_type": "code",
   "execution_count": 72,
   "metadata": {},
   "outputs": [
    {
     "data": {
      "text/plain": [
       "array([[   1,   35,   35,   12],\n",
       "       [   1,   46,   35,   21],\n",
       "       [   1,   56,   46, 3412],\n",
       "       [   1,   58,   48, 3542]])"
      ]
     },
     "execution_count": 72,
     "metadata": {},
     "output_type": "execute_result"
    }
   ],
   "source": [
    "x"
   ]
  },
  {
   "cell_type": "code",
   "execution_count": 86,
   "metadata": {},
   "outputs": [
    {
     "data": {
      "text/plain": [
       "array([1., 1., 1., 1.])"
      ]
     },
     "execution_count": 86,
     "metadata": {},
     "output_type": "execute_result"
    }
   ],
   "source": [
    "layer1(x)"
   ]
  },
  {
   "cell_type": "code",
   "execution_count": 93,
   "metadata": {},
   "outputs": [],
   "source": [
    "w_layer2 =np.random.rand(4,4) \n",
    "\n",
    "def layer2(x):\n",
    "    return sigmoid(x.dot(w_layer2))"
   ]
  },
  {
   "cell_type": "code",
   "execution_count": 94,
   "metadata": {},
   "outputs": [
    {
     "data": {
      "text/plain": [
       "array([[1.10218546, 1.19135582, 1.11357068, 1.05108224],\n",
       "       [1.10218546, 1.19135582, 1.11357068, 1.05108224],\n",
       "       [1.10218546, 1.19135582, 1.11357068, 1.05108224],\n",
       "       [1.10218546, 1.19135582, 1.11357068, 1.05108224]])"
      ]
     },
     "execution_count": 94,
     "metadata": {},
     "output_type": "execute_result"
    }
   ],
   "source": [
    "layer2(layer1(x))"
   ]
  },
  {
   "cell_type": "code",
   "execution_count": null,
   "metadata": {},
   "outputs": [],
   "source": []
  }
 ],
 "metadata": {
  "kernelspec": {
   "display_name": "Python 3",
   "language": "python",
   "name": "python3"
  },
  "language_info": {
   "codemirror_mode": {
    "name": "ipython",
    "version": 3
   },
   "file_extension": ".py",
   "mimetype": "text/x-python",
   "name": "python",
   "nbconvert_exporter": "python",
   "pygments_lexer": "ipython3",
   "version": "3.6.4"
  }
 },
 "nbformat": 4,
 "nbformat_minor": 2
}
